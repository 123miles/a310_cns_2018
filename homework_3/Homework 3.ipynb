{
 "cells": [
  {
   "cell_type": "markdown",
   "metadata": {},
   "source": [
    "# Homework 3 (Due: March 26, 2018)"
   ]
  },
  {
   "cell_type": "markdown",
   "metadata": {},
   "source": [
    "## 1. f-I curves\n",
    "\n",
    "Here we ask you to reproduce Fig. 7.2 and 7.6 in Rinzel and Ermentrout by using the simulation in the part 2 and 1 of the NEURON tutorial 3, a single compartment neuron with the Morris-Lecar mechanism in a voltage clmap and current clamp mode, respectively.\n",
    "\n",
    "1. Find the I-V relation (panel A in Fig. 7.2 and 7.6): you can use the voltage clamp to fix the membrane voltage to a certain value and and read the current required to maintain the voltage (`vc.i` in the part 2 simulation). Find out how the I-V relation changes with the half-maximum voltage of the K+ channel (`soma.betaw_ml`). Try a few different values from -20 mV to 0 mV.\n",
    "2. Use the simulations in the part 1, in a current clamp mode, to compute the f-I curve (panel B) of a Morris-Lecar neuron with the same sets of the half-maximum voltage (`soma.betaw_ml`) used in 1. Verify the relationship between the I-V relation and firing property. (Hint: you can use `APCount` (https://www.neuron.yale.edu/neuron/static/py_doc/modelspec/programmatic/mechanisms/mech.html?highlight=apcount#APCount) to count spikes)\n",
    "3. Try the Hodgekin-Huxley mechanisms (`hh`) instead of the Morris-Lecar, and discuss the result.\n"
   ]
  },
  {
   "cell_type": "markdown",
   "metadata": {},
   "source": [
    "## 2. Channel dynamics during spike generation\n",
    "\n",
    "Here we ues a single compartment neuron with the Hodgkin-Huxley mechanism in a current clmap mode to monitor how ion channels activate to generate an action potential, triggered by a brief current injection.\n",
    "\n",
    "Set up the same current clamp simulation as the part 1 of the tutorial 3, but with two differences:\n",
    "* the neuron has the Hodgkin-Huxley mechanism (`hh`) instead of the Morris-Lecar,\n",
    "* the duration of the injection (`ic.dur`) is short (1 ms).\n",
    "\n",
    "\n",
    "1. Discuss how the channel activates during spike generation in a similar way to Fig. 6.5 in the textbook. For this, you can record from the channel gating variables, `m_hh`, `h_hh`, and `n_hh`.\n",
    "2. __(Anode break excitation)__ Set the injected current (`ic.amp`) to -0.2 nA, run the simulation, and explain the result.\n",
    "3. Plot the 2D phase plots of voltage and other gating variables. For example, `v` vs `n_hh`, `n_hh` vs `m_hh`, etc. In each plot, draw several trajectories with different injected currents, particularly including negative ones (as in 2). Which plot is most helpful to you to understand the system's behavior and how? Is your answer to the question 2 consistent with the phase plots?\n"
   ]
  }
 ],
 "metadata": {
  "kernel_info": {
   "name": "python3"
  },
  "kernelspec": {
   "display_name": "Python 3",
   "language": "python",
   "name": "python3"
  },
  "language_info": {
   "codemirror_mode": {
    "name": "ipython",
    "version": 3
   },
   "file_extension": ".py",
   "mimetype": "text/x-python",
   "name": "python",
   "nbconvert_exporter": "python",
   "pygments_lexer": "ipython3",
   "version": "3.6.4"
  },
  "nteract": {
   "version": "0.7.0"
  }
 },
 "nbformat": 4,
 "nbformat_minor": 2
}
