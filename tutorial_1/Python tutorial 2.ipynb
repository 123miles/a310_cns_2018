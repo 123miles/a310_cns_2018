{
 "cells": [
  {
   "cell_type": "markdown",
   "metadata": {},
   "source": [
    "# Lightning Introduction to Python - part 2"
   ]
  },
  {
   "cell_type": "markdown",
   "metadata": {},
   "source": [
    "## Data types\n",
    "### List\n",
    "\n",
    "List is a mutable data type that can contain elements with different data types."
   ]
  },
  {
   "cell_type": "code",
   "execution_count": 1,
   "metadata": {},
   "outputs": [
    {
     "name": "stdout",
     "output_type": "stream",
     "text": [
      "[0, 1, 2, 3, 4, 5]\n",
      "[0, 1, 2, 3, 4, 5]\n"
     ]
    }
   ],
   "source": [
    "a = [0, 1, 2, 3, 4, 5]\n",
    "print(a)\n",
    "a = list(range(6))\n",
    "print(a)"
   ]
  },
  {
   "cell_type": "code",
   "execution_count": 2,
   "metadata": {},
   "outputs": [
    {
     "name": "stdout",
     "output_type": "stream",
     "text": [
      "[0, 1, 2, 3, 4, 5, 6]\n",
      "[0, 1, 2, 3, 4, 5, 6, 'J']\n",
      "[0, 1, 2, 4, 5, 6, 'J']\n"
     ]
    }
   ],
   "source": [
    "a.append(6)     # You can append elements...\n",
    "print(a)\n",
    "\n",
    "a.append('J')   # of different types...\n",
    "print(a)\n",
    "\n",
    "a.remove(3)     # and remove them, too.\n",
    "print(a)"
   ]
  },
  {
   "cell_type": "code",
   "execution_count": 3,
   "metadata": {},
   "outputs": [
    {
     "name": "stdout",
     "output_type": "stream",
     "text": [
      "False\n",
      "0\n",
      "1\n",
      "4\n",
      "16\n",
      "25\n",
      "36\n"
     ]
    },
    {
     "ename": "TypeError",
     "evalue": "unsupported operand type(s) for ** or pow(): 'str' and 'int'",
     "output_type": "error",
     "traceback": [
      "\u001b[0;31m---------------------------------------------------------------------------\u001b[0m",
      "\u001b[0;31mTypeError\u001b[0m                                 Traceback (most recent call last)",
      "\u001b[0;32m<ipython-input-3-870b50332837>\u001b[0m in \u001b[0;36m<module>\u001b[0;34m()\u001b[0m\n\u001b[1;32m      2\u001b[0m \u001b[0;34m\u001b[0m\u001b[0m\n\u001b[1;32m      3\u001b[0m \u001b[0;32mfor\u001b[0m \u001b[0mx\u001b[0m \u001b[0;32min\u001b[0m \u001b[0ma\u001b[0m\u001b[0;34m:\u001b[0m\u001b[0;34m\u001b[0m\u001b[0m\n\u001b[0;32m----> 4\u001b[0;31m     \u001b[0mprint\u001b[0m\u001b[0;34m(\u001b[0m\u001b[0mx\u001b[0m\u001b[0;34m**\u001b[0m\u001b[0;36m2\u001b[0m\u001b[0;34m)\u001b[0m   \u001b[0;31m# Loop around elements in the list.\u001b[0m\u001b[0;34m\u001b[0m\u001b[0m\n\u001b[0m",
      "\u001b[0;31mTypeError\u001b[0m: unsupported operand type(s) for ** or pow(): 'str' and 'int'"
     ]
    }
   ],
   "source": [
    "print(3 in a) # Test if it has a particular element.\n",
    "\n",
    "for x in a: \n",
    "    print(x**2)   # Loop around elements in the list."
   ]
  },
  {
   "cell_type": "code",
   "execution_count": 4,
   "metadata": {},
   "outputs": [
    {
     "name": "stdout",
     "output_type": "stream",
     "text": [
      "4\n",
      "[1, 2, 4, 5]\n",
      "J\n"
     ]
    }
   ],
   "source": [
    "print(a[3])\n",
    "print(a[1:5])    # Access a range of elements.\n",
    "print(a[-1])     # You can also index from the end."
   ]
  },
  {
   "cell_type": "markdown",
   "metadata": {},
   "source": [
    "### Tuple\n",
    "\n",
    "Tuple is similar to List, but is immutable."
   ]
  },
  {
   "cell_type": "code",
   "execution_count": 5,
   "metadata": {},
   "outputs": [
    {
     "name": "stdout",
     "output_type": "stream",
     "text": [
      "False\n",
      "(1, 2)\n",
      "1 2\n",
      "(1, 2)\n",
      "1 2\n"
     ]
    }
   ],
   "source": [
    "a = (1, 2)\n",
    "print(3 in a)       # Test if it has the particular element.\n",
    "\n",
    "a = 1, 2     # a == ???\n",
    "print(a)\n",
    "a, b = 1, 2  # a == ??? We have seen this before.\n",
    "print(a, b)\n",
    "      \n",
    "def f():\n",
    "    return 1, 2\n",
    "\n",
    "print(f())     # x==???\n",
    "x, y = f()  # x==???\n",
    "print(x, y)"
   ]
  },
  {
   "cell_type": "markdown",
   "metadata": {},
   "source": [
    "### Dictionary\n",
    "\n",
    "The dictionary is an incredibly convenient data structure that provides key/value access."
   ]
  },
  {
   "cell_type": "code",
   "execution_count": 6,
   "metadata": {},
   "outputs": [
    {
     "name": "stdout",
     "output_type": "stream",
     "text": [
      "{'type': 'pyr', 'rate': 1.0, 'number': 1000}\n",
      "pyr\n",
      "True\n"
     ]
    }
   ],
   "source": [
    "p = {'type': 'pyr', 'rate': 1.0, 'number': 1000}\n",
    "print(p)\n",
    "print(p['type'])\n",
    "print('type' in p)    # Check if the dict has a particular **key**"
   ]
  },
  {
   "cell_type": "markdown",
   "metadata": {},
   "source": [
    "A list of dictionaries is a very convenient data structure to handle complex data sets."
   ]
  },
  {
   "cell_type": "code",
   "execution_count": 7,
   "metadata": {},
   "outputs": [
    {
     "name": "stdout",
     "output_type": "stream",
     "text": [
      "The number of PV int neurons is 200\n",
      "The number of SOM int neurons is 100\n"
     ]
    }
   ],
   "source": [
    "cells = [\n",
    "    {'type': 'pyr', 'rate': 1.0, 'number': 1000},\n",
    "    {'type': 'PV int',  'rate': 4.0, 'number': 200},\n",
    "    {'type': 'SOM int', 'rate': 1.5, 'number': 100}\n",
    "]\n",
    "\n",
    "for cell in cells:\n",
    "    if 'int' in cell['type']:\n",
    "        print('The number of', cell['type'], 'neurons is', cell['number'])"
   ]
  },
  {
   "cell_type": "code",
   "execution_count": null,
   "metadata": {},
   "outputs": [],
   "source": []
  }
 ],
 "metadata": {
  "kernelspec": {
   "display_name": "Python 3",
   "language": "python",
   "name": "python3"
  },
  "language_info": {
   "codemirror_mode": {
    "name": "ipython",
    "version": 3
   },
   "file_extension": ".py",
   "mimetype": "text/x-python",
   "name": "python",
   "nbconvert_exporter": "python",
   "pygments_lexer": "ipython3",
   "version": "3.6.3"
  }
 },
 "nbformat": 4,
 "nbformat_minor": 2
}
