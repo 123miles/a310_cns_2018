{
 "cells": [
  {
   "cell_type": "markdown",
   "metadata": {},
   "source": [
    "# NEURON tutorial - part 1"
   ]
  },
  {
   "cell_type": "markdown",
   "metadata": {},
   "source": [
    "## Sections and segments\n",
    "\n",
    "NEURON is a simulator that is designed to simulate neurons with realistic extended morphologies. How can NEURON do this? Basically in NEURON, a neuron is represented as a collection of cylinders, called **sections**."
   ]
  },
  {
   "cell_type": "markdown",
   "metadata": {},
   "source": [
    "![](images/r18_1_sections.png)"
   ]
  },
  {
   "cell_type": "markdown",
   "metadata": {},
   "source": [
    "Here we display a pyramidal neuron with two different sections are highlited (red). The problem is that neurons oftentimes have sections with quite different sizes such as long and thick (left) and short and tiny (right). To deal with this problem, each section is divided into **segments**, and so we can divide big sections with many segments while we can keep small ones with less or no segmenting.\n",
    "\n",
    "Therefore, we have four different morphological parameters for each section,\n",
    "\n",
    "1. `L`: length of a section,\n",
    "2. `diam`: diameter,\n",
    "3. `nseg`: a number of segments,\n",
    "4. `x`: a *relative* coordinate along a section. `x=0` and `x=1` represent one and the other end, and `x=0.5` represents a middle point.\n",
    "\n",
    "![Example section](./images/cylinder.png)\n"
   ]
  },
  {
   "cell_type": "markdown",
   "metadata": {},
   "source": [
    "Then, every dynamical variable such as membrane potential is computed segment by segment. For example, if our section has `nseg=3`, membrane potential at three different points, v(x=0.0), v(x=0.5), and v(x=1.0), can be different from each other. However, if `nseg=1`, v(x) will be exactly the same no matter which point we measure --- the section is isopotential. Having this in mind, let's open NEURON and create some sections."
   ]
  },
  {
   "cell_type": "code",
   "execution_count": 2,
   "metadata": {},
   "outputs": [],
   "source": [
    "from neuron import h, gui\n",
    "\n",
    "axon = h.Section(name=\"axon\")"
   ]
  },
  {
   "cell_type": "markdown",
   "metadata": {},
   "source": [
    "Now let's inspect what's in `axon`."
   ]
  },
  {
   "cell_type": "code",
   "execution_count": 3,
   "metadata": {},
   "outputs": [
    {
     "name": "stdout",
     "output_type": "stream",
     "text": [
      "soma { nseg=1  L=100  Ra=35.4\n",
      "\t/*location 0 attached to cell 0*/\n",
      "\t/* First segment only */\n",
      "\tinsert morphology { diam=500}\n",
      "\tinsert capacitance { cm=1}\n",
      "}\n"
     ]
    },
    {
     "data": {
      "text/plain": [
       "1.0"
      ]
     },
     "execution_count": 3,
     "metadata": {},
     "output_type": "execute_result"
    }
   ],
   "source": [
    "h.psection(axon)"
   ]
  },
  {
   "cell_type": "markdown",
   "metadata": {},
   "source": [
    "We can see that `axon` is created with default values for the shape parameters and also others such as `cm` and `Ra`, which represent *capacitance* and *axial resistance* of this section, respectively. `L=100` means that the length is 100 μm, and `diam=500` means that the diameter is 500 μm. "
   ]
  },
  {
   "cell_type": "markdown",
   "metadata": {},
   "source": [
    "### Default units used in NEURON\n",
    "\n",
    "|Quantity | Unit|\n",
    "|:--------|:-----|\n",
    "|Time | ms |\n",
    "|Voltage | mV |\n",
    "|Current density (distributed) | mA/cm2 |\n",
    "|Current (point process) | nA |\n",
    "|Concentration | mM |\n",
    "|Specific capacitance | uF/cm2 |\n",
    "|Length | um |\n",
    "|Conductance density (distributed) | S/cm2 |\n",
    "|Conductance (point process) | uS |\n",
    "|Axial resistance | ohm cm |\n",
    "|Resistance | Mohm|\n"
   ]
  },
  {
   "cell_type": "code",
   "execution_count": null,
   "metadata": {},
   "outputs": [],
   "source": []
  }
 ],
 "metadata": {
  "kernelspec": {
   "display_name": "Python 3",
   "language": "python",
   "name": "python3"
  },
  "language_info": {
   "codemirror_mode": {
    "name": "ipython",
    "version": 3
   },
   "file_extension": ".py",
   "mimetype": "text/x-python",
   "name": "python",
   "nbconvert_exporter": "python",
   "pygments_lexer": "ipython3",
   "version": "3.6.3"
  }
 },
 "nbformat": 4,
 "nbformat_minor": 2
}
